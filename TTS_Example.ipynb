{
 "cells": [
  {
   "cell_type": "markdown",
   "id": "db3e8211",
   "metadata": {},
   "source": [
    "# Text to Speech Program Using Python"
   ]
  },
  {
   "cell_type": "markdown",
   "id": "4415004c",
   "metadata": {},
   "source": [
    "### [+] Author: Mohammed Wais\n",
    "### [+] Date: 19.09.2021\n",
    "### [+] Description: Converting english text to speech and saving it as mp3"
   ]
  },
  {
   "cell_type": "markdown",
   "id": "af126534",
   "metadata": {},
   "source": [
    "## Here I import \"pyttsx3\", \"gtts\", and \"os\""
   ]
  },
  {
   "cell_type": "code",
   "execution_count": 1,
   "id": "d413a212",
   "metadata": {},
   "outputs": [],
   "source": [
    "import pyttsx3\n",
    "from gtts import gTTS\n",
    "import os"
   ]
  },
  {
   "cell_type": "markdown",
   "id": "1c1bd606",
   "metadata": {},
   "source": [
    "## initate of pyttsx3 and keeping the lanaguge as english"
   ]
  },
  {
   "cell_type": "code",
   "execution_count": 2,
   "id": "9b08e94e",
   "metadata": {},
   "outputs": [],
   "source": [
    "text_speech = pyttsx3.init()\n",
    "langauge= 'en'"
   ]
  },
  {
   "cell_type": "markdown",
   "id": "d7ec9e33",
   "metadata": {},
   "source": [
    "## Taking inputs from user and output the speeh to review"
   ]
  },
  {
   "cell_type": "code",
   "execution_count": 8,
   "id": "591374d6",
   "metadata": {},
   "outputs": [
    {
     "name": "stdout",
     "output_type": "stream",
     "text": [
      "What you want to convert to speech?The idea to keep every thing ok with the system, that shall take time\n"
     ]
    }
   ],
   "source": [
    "answer = input(\"What you want to convert to speech?\")"
   ]
  },
  {
   "cell_type": "code",
   "execution_count": 9,
   "id": "34fb0cb6",
   "metadata": {},
   "outputs": [],
   "source": [
    "text_speech.say(answer)"
   ]
  },
  {
   "cell_type": "code",
   "execution_count": 10,
   "id": "bad8ff4e",
   "metadata": {},
   "outputs": [],
   "source": [
    "text_speech.runAndWait()"
   ]
  },
  {
   "cell_type": "code",
   "execution_count": 11,
   "id": "5c35b9f1",
   "metadata": {},
   "outputs": [],
   "source": [
    "myobj = gTTS(text= answer, lang= langauge, slow=False)"
   ]
  },
  {
   "cell_type": "markdown",
   "id": "aced7d22",
   "metadata": {},
   "source": [
    "## saving as mp3"
   ]
  },
  {
   "cell_type": "code",
   "execution_count": 12,
   "id": "9ab32490",
   "metadata": {},
   "outputs": [],
   "source": [
    "myobj.save(\"saved.mp3\")"
   ]
  },
  {
   "cell_type": "code",
   "execution_count": 13,
   "id": "824d0180",
   "metadata": {},
   "outputs": [
    {
     "data": {
      "text/plain": [
       "1"
      ]
     },
     "execution_count": 13,
     "metadata": {},
     "output_type": "execute_result"
    }
   ],
   "source": [
    "os.system(\"mpg321 saved.mp3\")"
   ]
  },
  {
   "cell_type": "code",
   "execution_count": null,
   "id": "c2b79ddd",
   "metadata": {},
   "outputs": [],
   "source": []
  }
 ],
 "metadata": {
  "kernelspec": {
   "display_name": "Python 3 (ipykernel)",
   "language": "python",
   "name": "python3"
  },
  "language_info": {
   "codemirror_mode": {
    "name": "ipython",
    "version": 3
   },
   "file_extension": ".py",
   "mimetype": "text/x-python",
   "name": "python",
   "nbconvert_exporter": "python",
   "pygments_lexer": "ipython3",
   "version": "3.7.4"
  }
 },
 "nbformat": 4,
 "nbformat_minor": 5
}
